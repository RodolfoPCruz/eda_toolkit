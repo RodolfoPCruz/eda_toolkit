{
 "cells": [
  {
   "cell_type": "code",
   "execution_count": 2,
   "id": "2b3fd1bc",
   "metadata": {},
   "outputs": [],
   "source": [
    "import pandas as pd\n",
    "import seaborn as sns\n",
    "#from sklearn import set_config\n",
    "import seaborn as sns\n",
    "import matplotlib.pyplot as plt"
   ]
  },
  {
   "cell_type": "code",
   "execution_count": 3,
   "id": "e39a5f44",
   "metadata": {},
   "outputs": [],
   "source": [
    "#Configurações\n",
    "\n",
    "seed = 42\n",
    "#set_config(transform_output = \"pandas\")\n",
    "sns.set_style(\"darkgrid\")\n"
   ]
  },
  {
   "cell_type": "markdown",
   "id": "13d4abd3",
   "metadata": {},
   "source": [
    "# Load Data"
   ]
  },
  {
   "cell_type": "code",
   "execution_count": 4,
   "id": "da697239",
   "metadata": {},
   "outputs": [],
   "source": [
    "nba       = pd.read_csv('../data/nba/nba_salaries.csv')\n",
    "insurance = pd.read_csv('../data/insurance/insurance.csv')\n",
    "airline   = pd.read_csv('../data/airline/train.csv')\n",
    "airbnb    = pd.read_csv('../data/airbnb/listings.csv')"
   ]
  },
  {
   "cell_type": "markdown",
   "id": "ad2c1e1c",
   "metadata": {},
   "source": [
    "# Functions"
   ]
  },
  {
   "cell_type": "code",
   "execution_count": null,
   "id": "b56175df",
   "metadata": {},
   "outputs": [],
   "source": [
    "def univariate_statistics(df: pd.DataFrame, round_to: int = 3) -> pd.DataFrame:\n",
    "    '''\n",
    "    Function to calculate import statistis for univariate analysis\n",
    "\n",
    "    Args:\n",
    "        df (pd.DataFrame): input data\n",
    "            round (int) : number of decimals to be returned\n",
    "    Returns\n",
    "        output_df: pd.DataFrame containing the calculated statistics. The features will be the index\n",
    "            of the dataframe and the statitics the columns.\n",
    "            The univariate statistics in the output dataframe are the following:\n",
    "                            \n",
    "            type  : datatype of the feature\n",
    "            count  : number of not nan values\n",
    "            missing : number of missing values\n",
    "            unique : number of unique values\n",
    "            mode : most frequent value\n",
    "            min_value : min value   \n",
    "            q1 : first quartile\n",
    "            median : median\n",
    "            q3 : third quartile\n",
    "            max_value : max value\n",
    "            mean : mean value\n",
    "            std : standard deviation\n",
    "            skew : skew\n",
    "            kurtosis : kurtosis \n",
    "    '''\n",
    "\n",
    "\n",
    "    output_df = pd.DataFrame(columns = ['feature','type', 'count', 'missing', \n",
    "                                        'unique', 'mode', 'min_value', 'q1',\n",
    "                                        'median', 'q3', 'max_value', 'mean', 'std',\n",
    "                                        'skew', 'kurtosis'])\n",
    "    output_df.set_index('feature', inplace = True)\n",
    "\n",
    "    for col in df.columns :\n",
    "        # metrics that be calculated for all data types\n",
    "        dtype = df[col].dtype\n",
    "        count = df[col].count()\n",
    "        missing = df[col].isna().sum()\n",
    "        unique = df[col].nunique()\n",
    "        mode_series = df[col].mode()\n",
    "        mode = mode_series[0] if not mode_series.empty else '-'\n",
    "\n",
    "        if pd.api.types.is_numeric_dtype(df[col]):\n",
    "            # metrics that only apply to numeric columns\n",
    "            min_value = df[col].min().round(round_to)\n",
    "            q_1 = df[col].quantile(0.25)\n",
    "            median = df[col].median()\n",
    "            q_3 = df[col].quantile(0.75)\n",
    "            max_value = df[col].max()\n",
    "            mean_ = df[col].mean().round(round_to)\n",
    "            std_ = df[col].std().round(round_to)\n",
    "            skew = df[col].skew().round(round_to)\n",
    "            kurtosis = df[col].kurtosis().round(round_to)\n",
    "\n",
    "        else:\n",
    "            min_value = '-'\n",
    "            q_1 = '-'\n",
    "            median = '-'\n",
    "            q_3 = '-'\n",
    "            max_value = '-'\n",
    "            mean_ = '-'\n",
    "            std_ = '-'\n",
    "            skew = '-'\n",
    "            kurtosis = '-'   \n",
    "\n",
    "        output_df.loc[col] = [dtype, count, missing, unique,\n",
    "                              mode, min_value, q_1, median, q_3, max_value,        \n",
    "                              mean_, std_, skew, kurtosis]\n",
    "\n",
    "    return output_df\n",
    "\n",
    "\n",
    "\n",
    "      "
   ]
  },
  {
   "cell_type": "code",
   "execution_count": 6,
   "id": "482bc979",
   "metadata": {},
   "outputs": [],
   "source": [
    "def plot_histograms_countplots(df: pd.DataFrame, list_of_features: list = None) -> None:   \n",
    "\n",
    "    '''\n",
    "    The function plots histogram for numeric features and countplots for categorical features.\n",
    "\n",
    "    Args:\n",
    "        df (pd.DataFrame): data to be plotted\n",
    "        list_of_feature: features to be plotted. If None, all numerical and categorical features in df will \n",
    "                         be plotted\n",
    "    '''\n",
    "\n",
    "    if list_of_features is None:\n",
    "        list_of_features = df.columns\n",
    "\n",
    "\n",
    "    for col in list_of_features:\n",
    "        if col not in df:\n",
    "            print(f'The feature {col} was not in df and was therefore ignored')\n",
    "            continue\n",
    "        if pd.api.types.is_numeric_dtype(df[col]):\n",
    "            plt.title(col)\n",
    "            sns.histplot(df[col], stat = 'density')\n",
    "        else:\n",
    "            plt.title(col)\n",
    "            sns.countplot(data = df, x = df[col])\n",
    "            if df[col].nunique() > 10:\n",
    "                plt.xticks(rotation = 90)\n",
    "        plt.show()"
   ]
  }
 ],
 "metadata": {
  "kernelspec": {
   "display_name": "automacao",
   "language": "python",
   "name": "python3"
  },
  "language_info": {
   "codemirror_mode": {
    "name": "ipython",
    "version": 3
   },
   "file_extension": ".py",
   "mimetype": "text/x-python",
   "name": "python",
   "nbconvert_exporter": "python",
   "pygments_lexer": "ipython3",
   "version": "3.9.19"
  }
 },
 "nbformat": 4,
 "nbformat_minor": 5
}
